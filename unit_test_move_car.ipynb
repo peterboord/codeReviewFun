{
 "cells": [
  {
   "cell_type": "markdown",
   "metadata": {},
   "source": [
    "# General comments\n",
    "bug: NameError: name 'vehicle_two_ps' is not defined\n",
    "code should be in functions to allow individual functions to be tested\n",
    "set up statements should be in __main__ code block\n",
    "variables that are currently globals are better to be encapsulated in the class with the functions that operate on them\n",
    "unit test functions should be wriiten for each line of input\n",
    "doesn't check inputs, e.g. number, capitalization\n",
    "use argparse for parsing user inputs\n",
    "state python version\n",
    "add authors\n",
    "add comments\n",
    "don't name variables using function names, eg 'dir'\n",
    "Chanin: write line-by-line comments at bottom, referencing line numbers... avoids confusion with user's comments"
   ]
  },
  {
   "cell_type": "markdown",
   "metadata": {},
   "source": [
    "## Expected input\n",
    "1. X Y  # 2D grid limits\n",
    "2. X Y facing_dir # Car 1: 2 integers + 1 character\n",
    "3. car1_commands # eg RMLLMRMRM\n",
    "4. X Y facing_dir # Car 2: 2 integers + 1 character\n",
    "5. car2_commands # eg RMLLMRMRM"
   ]
  },
  {
   "cell_type": "code",
   "execution_count": 35,
   "metadata": {
    "collapsed": false
   },
   "outputs": [
    {
     "name": "stdout",
     "output_type": "stream",
     "text": [
      "Enter grid limits as X Y: 10 10\n",
      "Enter car 1 position and direction as X Y FACING_DIRECTION: 5 5 N\n"
     ]
    }
   ],
   "source": [
    "import argparse\n",
    "input_dict = {}\n",
    "# 1. X Y  # 2D grid limits\n",
    "parser = argparse.ArgumentParser()\n",
    "parser.add_argument('x', type=int)\n",
    "parser.add_argument('y', type=int)\n",
    "while True:\n",
    "    astr = raw_input('Enter grid limits as X Y: ')\n",
    "    try:\n",
    "        args = parser.parse_args(astr.split())\n",
    "        break\n",
    "    except SystemExit:\n",
    "        # trap argparse error message\n",
    "        print 'Wrong input format'\n",
    "        continue\n",
    "input_dict['grid_limits'] = args.x, args.y\n",
    "# 2. X Y facing_dir # Car 1: 2 integers + 1 character\n",
    "parser = argparse.ArgumentParser()\n",
    "parser.add_argument('x', type=int)\n",
    "parser.add_argument('y', type=int)\n",
    "parser.add_argument('facing_dir', type=str)\n",
    "while True:\n",
    "    astr = raw_input('Enter car 1 position and direction as X Y FACING_DIRECTION: ')\n",
    "    try:\n",
    "        args = parser.parse_args(astr.split())\n",
    "        break\n",
    "    except SystemExit:\n",
    "        # trap argparse error message\n",
    "        print 'Wrong input format'\n",
    "        continue\n",
    "input_dict['car 1_position'] = args.x, args.y, args.facing_dir\n",
    "# 3. car1_commands # eg RMLLMRMRM\n",
    "# 4. X Y facing_dir # Car 2: 2 integers + 1 character\n",
    "# 5. car2_commands # eg RMLLMRMRM"
   ]
  },
  {
   "cell_type": "code",
   "execution_count": 37,
   "metadata": {
    "collapsed": false
   },
   "outputs": [
    {
     "name": "stdout",
     "output_type": "stream",
     "text": [
      "(10, 10) (5, 5, 'N')\n"
     ]
    }
   ],
   "source": [
    "print input_dict['grid_limits'], input_dict['car 1_position']"
   ]
  },
  {
   "cell_type": "code",
   "execution_count": 2,
   "metadata": {
    "collapsed": false
   },
   "outputs": [
    {
     "name": "stdout",
     "output_type": "stream",
     "text": [
      "6 6\n",
      "1 3 E\n",
      "RMLLMRMRM\n",
      "1 1 N\n",
      "LMLML\n",
      "2 2 S\n",
      "0 0 E\n"
     ]
    }
   ],
   "source": [
    "import argparse\n",
    "directions = ['N','E','S','W'] \n",
    "movement = {'N': (0,1), 'E': (1,0), 'S': (0,-1), 'W':(-1,0)}\n",
    "commands = {'L': 'turn_left', 'R': 'turn_right', 'M': 'move'}\n",
    "\n",
    "GRID_MAX_X, GRID_MAX_Y = map(int, raw_input().split())\n",
    "\n",
    "first_vehicle_x = None\n",
    "first_vehicle_y = None\n",
    "\n",
    "class Vehicle():\n",
    "    def __init__(self, x, y, face):\n",
    "        self.x = x\n",
    "        self.y = y\n",
    "        self.dir = face\n",
    "\n",
    "    def turn_left(self):\n",
    "        self.dir = directions[(directions.index(self.dir)-1)%len(directions)]\n",
    "\n",
    "    def turn_right(self):\n",
    "        self.dir = directions[(directions.index(self.dir)+1)%len(directions)]\n",
    "\n",
    "    def move(self):\n",
    "        new_x = self.x + movement[self.dir][0]\n",
    "        new_y = self.y + movement[self.dir][1]\n",
    "\n",
    "        if new_x != first_vehicle_x or new_y != first_vehicle_y:\n",
    "            if new_x in xrange(GRID_MAX_X+1):\n",
    "                self.x = new_x\n",
    "            if new_y in xrange(GRID_MAX_Y+1):\n",
    "                self.y = new_y\n",
    "\n",
    "def get_user_input():\n",
    "parser = argparse.ArgumentParser(prog='PROG', description='description')\n",
    "parser.add_argument('cmd', choices=['create','delete','help','quit'])\n",
    "\n",
    "while True:\n",
    "    astr = raw_input('Enter grid limits as X Y: ')\n",
    "    # print astr\n",
    "    try:\n",
    "        args = parser.parse_args(astr.split())\n",
    "    except SystemExit:\n",
    "        # trap argparse error message\n",
    "        print 'error'\n",
    "        continue\n",
    "    if args.cmd in ['create', 'delete']:\n",
    "        print 'doing', args.cmd\n",
    "    elif args.cmd == 'help':\n",
    "        parser.print_help()\n",
    "    else:\n",
    "        print 'done'\n",
    "        break\n",
    "    \n",
    "vehicle_one_pos = raw_input().split()\n",
    "vehicle_one_commands = raw_input()\n",
    "\n",
    "vehicle_one = Vehicle(int(vehicle_one_pos[0]), int(vehicle_one_pos[1]), vehicle_one_pos[2])\n",
    "for command in vehicle_one_commands:\n",
    "    eval(\"vehicle_one.{0}()\".format(commands[command]))\n",
    "\n",
    "first_vehicle_x = vehicle_one.x\n",
    "first_vehicle_y = vehicle_one.y\n",
    "\n",
    "\n",
    "vehicle_two_pos = raw_input().split()\n",
    "vehicle_two_commands = raw_input()\n",
    "\n",
    "\n",
    "vehicle_two = Vehicle(int(vehicle_two_pos[0]), int(vehicle_two_pos[1]), vehicle_two_pos[2])\n",
    "for command in vehicle_two_commands:\n",
    "    eval(\"vehicle_two.{0}()\".format(commands[command]))\n",
    "\n",
    "print vehicle_one.x, vehicle_one.y, vehicle_one.dir\n",
    "print vehicle_two.x, vehicle_two.y, vehicle_two.dir\n",
    "\n",
    "def main():\n",
    "    \n",
    "    grid = map(int, raw_input().split())\n",
    "    v1_pos, v1_dir = setup_and_move_vehicule(grid, None)\n",
    "    v2_pos, v2_dir = setup_and_move_vehicule(grid, v1_pos)\n",
    "    print v1_pos[0], v1_pos[1], v1_dir\n",
    "    print v2_pos[0], v2_pos[1], v2_dir\n",
    "\n",
    "\n",
    "if __name__ == '__main__':\n",
    "    main()\n"
   ]
  },
  {
   "cell_type": "markdown",
   "metadata": {},
   "source": [
    "# Unit tests"
   ]
  },
  {
   "cell_type": "code",
   "execution_count": null,
   "metadata": {
    "collapsed": true
   },
   "outputs": [],
   "source": []
  },
  {
   "cell_type": "code",
   "execution_count": null,
   "metadata": {
    "collapsed": true
   },
   "outputs": [],
   "source": []
  }
 ],
 "metadata": {
  "anaconda-cloud": {},
  "kernelspec": {
   "display_name": "Python [conda root]",
   "language": "python",
   "name": "conda-root-py"
  },
  "language_info": {
   "codemirror_mode": {
    "name": "ipython",
    "version": 2
   },
   "file_extension": ".py",
   "mimetype": "text/x-python",
   "name": "python",
   "nbconvert_exporter": "python",
   "pygments_lexer": "ipython2",
   "version": "2.7.12"
  },
  "toc": {
   "colors": {
    "hover_highlight": "#DAA520",
    "running_highlight": "#FF0000",
    "selected_highlight": "#FFD700"
   },
   "moveMenuLeft": true,
   "nav_menu": {
    "height": "48px",
    "width": "252px"
   },
   "navigate_menu": true,
   "number_sections": true,
   "sideBar": true,
   "threshold": 4,
   "toc_cell": false,
   "toc_section_display": "block",
   "toc_window_display": false
  }
 },
 "nbformat": 4,
 "nbformat_minor": 1
}
